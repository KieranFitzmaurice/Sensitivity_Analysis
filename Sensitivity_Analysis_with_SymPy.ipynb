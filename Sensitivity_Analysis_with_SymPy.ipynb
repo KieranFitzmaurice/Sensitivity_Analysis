{
 "cells": [
  {
   "cell_type": "code",
   "execution_count": 1,
   "metadata": {
    "slideshow": {
     "slide_type": "slide"
    }
   },
   "outputs": [],
   "source": [
    "import numpy as np\n",
    "import matplotlib.pyplot as plt\n",
    "from sympy import *\n",
    "import os, sys, shutil"
   ]
  },
  {
   "cell_type": "code",
   "execution_count": 2,
   "metadata": {
    "slideshow": {
     "slide_type": "slide"
    }
   },
   "outputs": [],
   "source": [
    "# Set up state variables and parameters \n",
    "\n",
    "n_states = 9  # number of state variables\n",
    "n_params = 15 # number of parameters \n",
    "\n",
    "# State variables \n",
    "x = [Symbol('P'),\n",
    "     Symbol('Pa'),\n",
    "     Symbol('f'),\n",
    "     Symbol('fa'),\n",
    "     Symbol('pT'),\n",
    "     Symbol('T'),\n",
    "     Symbol('Fg'),\n",
    "     Symbol('Fb'),\n",
    "     Symbol('Cl')]\n",
    "\n",
    "# Parameters\n",
    "p = [Symbol('k1'),\n",
    "     Symbol('k2'),\n",
    "     Symbol('k3'),\n",
    "     Symbol('k4'),\n",
    "     Symbol('k5'),\n",
    "     Symbol('k6'),\n",
    "     Symbol('k7'),\n",
    "     Symbol('k8'),\n",
    "     Symbol('KT'),\n",
    "     Symbol('KpT'),\n",
    "     Symbol('Kfa'),\n",
    "     Symbol('P0'),\n",
    "     Symbol('f0'),\n",
    "     Symbol('pT0'),\n",
    "     Symbol('Fg0')]"
   ]
  },
  {
   "cell_type": "code",
   "execution_count": 3,
   "metadata": {
    "slideshow": {
     "slide_type": "slide"
    }
   },
   "outputs": [],
   "source": [
    "# Define time derivatives of state variables  \n",
    "\n",
    "theta_T = p[8]*x[5]/(1 + p[8]*x[5])\n",
    "theta_pTfa = p[9]*p[10]*x[3]*x[4]/(1 + p[10]*x[3] + p[9]*p[10]*x[3]*x[4])\n",
    "\n",
    "r0 = p[0]*x[0]\n",
    "r1 = p[1]*x[0]*theta_T\n",
    "r2 = p[2]*x[2]\n",
    "r3 = p[3]*x[2]*x[5]\n",
    "r4 = p[4]*x[1]*theta_pTfa\n",
    "r5 = p[5]*x[6]*x[5]\n",
    "r6 = p[6]*x[1]*x[7]\n",
    "r7 = p[7]*x[8]\n",
    "\n",
    "f0 = -r0 - r1\n",
    "f1 = r0 + r1 - r6\n",
    "f2 = -r2 - r3\n",
    "f3 = r2 + r3\n",
    "f4 = -r4\n",
    "f5 = r4 - r5\n",
    "f6 = -r5\n",
    "f7 = r5 - r6\n",
    "f8 = r6 - r7\n",
    "\n",
    "f = [f0,f1,f2,f3,f4,f5,f6,f7,f8]"
   ]
  },
  {
   "cell_type": "code",
   "execution_count": 4,
   "metadata": {
    "slideshow": {
     "slide_type": "slide"
    }
   },
   "outputs": [],
   "source": [
    "# Define Jacobians\n",
    "\n",
    "# State Jacobian \n",
    "# ns x ns\n",
    "Js = []\n",
    "for i in range(n_states):\n",
    "    Js.append([])\n",
    "    for j in range(n_states):\n",
    "        Js[i].append(lambdify((x,p),f[i].diff(x[j])))\n",
    "\n",
    "# Parameter Jacobian\n",
    "# ns x np\n",
    "Jp = []\n",
    "for i in range(n_states):\n",
    "    Jp.append([])\n",
    "    for j in range(n_params):\n",
    "        Jp[i].append(lambdify((x,p),f[i].diff(p[j])))"
   ]
  },
  {
   "cell_type": "code",
   "execution_count": 5,
   "metadata": {
    "slideshow": {
     "slide_type": "slide"
    }
   },
   "outputs": [],
   "source": [
    "# Compute State Jacobian\n",
    "def A(xval,pval):\n",
    "    Aval = np.zeros((n_states,n_states))\n",
    "    for i in range(n_states):\n",
    "        for j in range(n_states):\n",
    "            Aval[i,j] = Js[i][j](xval,pval)\n",
    "    return(Aval)\n",
    "        \n",
    "# Compute Parameter Jacobian\n",
    "def B(xval,pval):\n",
    "    Bval = np.zeros((n_states,n_params))\n",
    "    for i in range(n_states):\n",
    "        for j in range(n_params):\n",
    "            Bval[i,j] = Jp[i][j](xval,pval)\n",
    "    return(Bval)"
   ]
  },
  {
   "cell_type": "code",
   "execution_count": 6,
   "metadata": {
    "slideshow": {
     "slide_type": "slide"
    }
   },
   "outputs": [],
   "source": [
    "# Define time derivatives of state variables \n",
    "ffunc = [lambdify((x,p),f[i]) for i in range(n_states)]\n",
    "\n",
    "# Compute time derivatives of state variables \n",
    "def x_prime(xval,pval,Sval):\n",
    "    dxdt = np.zeros(n_states)\n",
    "    for i in range(n_states):\n",
    "        dxdt[i] = ffunc[i](xval,pval)\n",
    "    return(dxdt)"
   ]
  },
  {
   "cell_type": "code",
   "execution_count": 7,
   "metadata": {
    "slideshow": {
     "slide_type": "slide"
    }
   },
   "outputs": [],
   "source": [
    "# Compute time derivatives of sensitivities \n",
    "\n",
    "# S = ns x np sensitivity matrix\n",
    "# A = ns x ns state jacobian matrix\n",
    "# B = ns x np parameter jacobian matrix \n",
    "\n",
    "def S_prime(Sval,pval,xval):\n",
    "    dSdt = np.matmul(A(xval,pval),Sval) + B(xval,pval)\n",
    "    return(dSdt)"
   ]
  },
  {
   "cell_type": "code",
   "execution_count": 8,
   "metadata": {
    "slideshow": {
     "slide_type": "slide"
    }
   },
   "outputs": [],
   "source": [
    "# Runge-Kutta-Fehlberg Method\n",
    "\n",
    "# Take step with current step size\n",
    "def takestep(f,wi,p,args,h):\n",
    "\n",
    "    k1 = h*f(wi, p, args)\n",
    "    k2 = h*f(wi + k1/4, p, args)\n",
    "    k3 = h*f(wi + 3/32*k1 + 9/32*k2, p, args)\n",
    "    k4 = h*f(wi + 1932/2197*k1 - 7200/2197*k2 + 7296/2197*k3, p, args)\n",
    "    k5 = h*f(wi + 439/216*k1 - 8*k2 + 3680/513*k3 - 845/4104*k4, p, args)\n",
    "    k6 = h*f(wi - 8/27*k1 + 2*k2 - 3544/2565*k3 + 1859/4104*k4 - 11/40*k5, p, args)\n",
    "        \n",
    "    w_rk4 = wi + 25/216*k1 + 1408/2565*k3 + 2197/4104*k4 - 1/5*k5 # 4th order runge-kutta\n",
    "    w_rk5 = wi + 16/135*k1 + 6656/12825*k3 + 28561/56430*k4 - 9/50*k5 + 2/55*k6 # 5th order runge-kutta \n",
    "    \n",
    "    return(w_rk4,w_rk5)\n",
    "    \n",
    "# Determine stepsize needed for specified accuracy \n",
    "def stepsize(f,wi,p,args,h,epsilon):\n",
    "    \n",
    "    smallnum = 1e-12\n",
    "    \n",
    "    while True: \n",
    "        \n",
    "        rk4,rk5 = takestep(f,wi,p,args,h) # Try with current stepsize  \n",
    "      \n",
    "        R = np.max(abs(rk4 - rk5))/h # Check if both step sizes agree within required accuracy \n",
    "        delta = 0.84*(epsilon/(R+smallnum))**0.25\n",
    "        \n",
    "        \n",
    "        if R <= epsilon: # Accept stepsize \n",
    "            h_next = h*delta \n",
    "            break\n",
    "        else: # If not keep going\n",
    "            h = h*delta \n",
    "      \n",
    "    return(h,h_next)"
   ]
  },
  {
   "cell_type": "code",
   "execution_count": 9,
   "metadata": {
    "slideshow": {
     "slide_type": "slide"
    }
   },
   "outputs": [],
   "source": [
    "# Integrate equations and sensitivities simultaneously \n",
    "\n",
    "def RKF45_step(x_prime,S_prime,xi,Si,p,h,epsilon):\n",
    "\n",
    "    # Calculate state variable required stepsize\n",
    "    hx,hx_next = stepsize(x_prime,xi,p,Si,h,epsilon)\n",
    "    \n",
    "    # Calculated sensitivity required stepsize \n",
    "    hS,hS_next = stepsize(S_prime,Si,p,xi,h,epsilon)\n",
    "    \n",
    "    # Pick smaller stepsize of two\n",
    "    h = np.min((hx,hS))\n",
    "    h_next = np.min((hx_next,hS_next))\n",
    "    \n",
    "    # Advance in time \n",
    "    x1,extra = takestep(x_prime,xi,p,Si,h)\n",
    "    S1,extra = takestep(S_prime,Si,p,xi,h)\n",
    "    \n",
    "    return(x1,S1,h,h_next)"
   ]
  },
  {
   "cell_type": "code",
   "execution_count": 10,
   "metadata": {
    "slideshow": {
     "slide_type": "slide"
    }
   },
   "outputs": [],
   "source": [
    "def solve_ODEs_Sensitivities(x_prime,S_prime,x0,S0,p,tf,epsilon):\n",
    "    \n",
    "    time = []\n",
    "    xt = []\n",
    "    St = []\n",
    "    \n",
    "    t = 0\n",
    "    time.append(t)\n",
    "    xt.append(x0)\n",
    "    St.append(S0)\n",
    "    \n",
    "    x = x0\n",
    "    S = S0\n",
    "    h = 0.01\n",
    "    \n",
    "    while t < tf:\n",
    "        x,S,h,h_next = RKF45_step(x_prime,S_prime,x,S,p,h,epsilon)\n",
    "        t = t + h\n",
    "        h = h_next \n",
    "        time.append(t)\n",
    "        xt.append(x)\n",
    "        St.append(S)\n",
    "        \n",
    "    time = np.array(time)\n",
    "    xt = np.array(xt)\n",
    "    St = np.array(St)\n",
    "    \n",
    "    return(time,xt,St)"
   ]
  },
  {
   "cell_type": "code",
   "execution_count": 11,
   "metadata": {
    "slideshow": {
     "slide_type": "slide"
    }
   },
   "outputs": [],
   "source": [
    "# Test it \n",
    "\n",
    "# Rate constants \n",
    "k1 = 5e-5\n",
    "k2 = 3e-2\n",
    "k3 = 1e-5\n",
    "k4 = 1e-3\n",
    "k5 = 1e-2\n",
    "k6 = 1e-3\n",
    "k7 = 7e-4\n",
    "k8 = 4e-5\n",
    "\n",
    "# Binding constants \n",
    "KT = 0.1\n",
    "KpT = 0.1\n",
    "Kfa = 0.1\n",
    "\n",
    "# Initial conditions \n",
    "P0 = 40\n",
    "Pa0 = 0\n",
    "f0 = 40\n",
    "fa0 = 0\n",
    "pT0 = 40\n",
    "T0 = 0\n",
    "Fg0 = 40\n",
    "Fb0 = 0\n",
    "Cl0 = 0\n",
    "\n",
    "# Parameters \n",
    "p0 = np.array([k1,k2,k3,k4,k5,k6,k7,k8,KT,KpT,Kfa,P0,f0,pT0,Fg0])\n",
    "\n",
    "# Initial Sensitivities \n",
    "S0 = np.zeros((n_states,n_params))\n",
    "S0[0,11] = 1 # P and P0\n",
    "S0[2,12] = 1 # f and f0\n",
    "S0[4,13] = 1 # pT and pT0\n",
    "S0[6,14] = 1 # Fg and Fg0\n",
    "\n",
    "# Initial State \n",
    "x0 = np.array([P0,Pa0,f0,fa0,pT0,T0,Fg0,Fb0,Cl0])\n",
    "\n",
    "# Time length \n",
    "tf = 5000\n",
    "\n",
    "# Allowed local truncation error\n",
    "epsilon = 1e-8\n",
    "\n",
    "time,xt,St = solve_ODEs_Sensitivities(x_prime,S_prime,x0,S0,p0,tf,epsilon)"
   ]
  },
  {
   "cell_type": "code",
   "execution_count": 12,
   "metadata": {
    "slideshow": {
     "slide_type": "slide"
    }
   },
   "outputs": [],
   "source": [
    "def makeplot(x,y,label_x,label_y,title):\n",
    "    fig = plt.figure(figsize = (8,6))\n",
    "    plt.plot(x,y)\n",
    "    plt.xlabel(label_x,fontsize=18)\n",
    "    plt.ylabel(label_y,fontsize=18)\n",
    "    plt.title(title,fontsize=20)\n",
    "    return(fig)"
   ]
  },
  {
   "cell_type": "code",
   "execution_count": 13,
   "metadata": {
    "slideshow": {
     "slide_type": "slide"
    }
   },
   "outputs": [],
   "source": [
    "path = '/Users/kieranfitzmaurice/Documents/Research/Models/'\n",
    "path = path + 'Surface_Mediated/Sensitivity_Analysis'\n",
    "os.chdir(path)\n",
    "\n",
    "label_x = 'time [seconds]'\n",
    "\n",
    "for i in range(n_states):\n",
    "    statename = str(x[i])\n",
    "    statepath = path + '/' + statename\n",
    "    \n",
    "    if os.path.exists(statepath):\n",
    "        shutil.rmtree(statepath)\n",
    "    os.makedirs(statepath)\n",
    "    os.chdir(statepath)\n",
    "    \n",
    "    # plot state variable trajectory\n",
    "    \n",
    "    label_y = statename + ' [units]'\n",
    "    title = statename + '(t)'\n",
    "    myfig = makeplot(time,xt[:,i],label_x,label_y,title)\n",
    "    plotname = 't_' + statename + '.png'\n",
    "    myfig.savefig(plotname,dpi = 300)\n",
    "    \n",
    "    for j in range(n_params):\n",
    "        \n",
    "        # Plot sensitivity of state variable i to parameter j\n",
    "        \n",
    "        paramname = str(p[j])\n",
    "        label_y = 'd(' + statename + ') / d(' + paramname + ')'\n",
    "        title = 'Sensitivity of ' + statename + ' to ' + paramname\n",
    "        myfig = makeplot(time,St[:,i,j],label_x,label_y,title)\n",
    "        plotname = 'S_' + statename + '_' + paramname + '.png'\n",
    "        myfig.savefig(plotname,dpi = 300)\n",
    "        plt.close('all')\n",
    "        \n",
    "    os.chdir(path)"
   ]
  },
  {
   "cell_type": "code",
   "execution_count": null,
   "metadata": {},
   "outputs": [],
   "source": []
  },
  {
   "cell_type": "code",
   "execution_count": null,
   "metadata": {},
   "outputs": [],
   "source": []
  }
 ],
 "metadata": {
  "kernelspec": {
   "display_name": "Python 3",
   "language": "python",
   "name": "python3"
  },
  "language_info": {
   "codemirror_mode": {
    "name": "ipython",
    "version": 3
   },
   "file_extension": ".py",
   "mimetype": "text/x-python",
   "name": "python",
   "nbconvert_exporter": "python",
   "pygments_lexer": "ipython3",
   "version": "3.5.6"
  }
 },
 "nbformat": 4,
 "nbformat_minor": 2
}
